{
 "cells": [
  {
   "cell_type": "code",
   "execution_count": 34,
   "metadata": {},
   "outputs": [],
   "source": [
    "import numpy as np\n",
    "import pandas as pd\n",
    "from matplotlib import pyplot as plt\n",
    "from sklearn.model_selection import train_test_split\n",
    "from sklearn.preprocessing import StandardScaler\n",
    "import tensorflow\n",
    "from tensorflow import keras\n",
    "from tensorflow.keras import Sequential\n",
    "from tensorflow.keras.layers import Dense\n",
    "from sklearn.metrics import confusion_matrix\n",
    "from sklearn.metrics import accuracy_score"
   ]
  },
  {
   "cell_type": "code",
   "execution_count": 4,
   "metadata": {},
   "outputs": [],
   "source": [
    "df = pd.read_csv('Churn_Modelling.csv')"
   ]
  },
  {
   "cell_type": "code",
   "execution_count": 5,
   "metadata": {},
   "outputs": [
    {
     "data": {
      "text/html": [
       "<div>\n",
       "<style scoped>\n",
       "    .dataframe tbody tr th:only-of-type {\n",
       "        vertical-align: middle;\n",
       "    }\n",
       "\n",
       "    .dataframe tbody tr th {\n",
       "        vertical-align: top;\n",
       "    }\n",
       "\n",
       "    .dataframe thead th {\n",
       "        text-align: right;\n",
       "    }\n",
       "</style>\n",
       "<table border=\"1\" class=\"dataframe\">\n",
       "  <thead>\n",
       "    <tr style=\"text-align: right;\">\n",
       "      <th></th>\n",
       "      <th>RowNumber</th>\n",
       "      <th>CustomerId</th>\n",
       "      <th>Surname</th>\n",
       "      <th>CreditScore</th>\n",
       "      <th>Geography</th>\n",
       "      <th>Gender</th>\n",
       "      <th>Age</th>\n",
       "      <th>Tenure</th>\n",
       "      <th>Balance</th>\n",
       "      <th>NumOfProducts</th>\n",
       "      <th>HasCrCard</th>\n",
       "      <th>IsActiveMember</th>\n",
       "      <th>EstimatedSalary</th>\n",
       "      <th>Exited</th>\n",
       "    </tr>\n",
       "  </thead>\n",
       "  <tbody>\n",
       "    <tr>\n",
       "      <th>0</th>\n",
       "      <td>1</td>\n",
       "      <td>15634602</td>\n",
       "      <td>Hargrave</td>\n",
       "      <td>619</td>\n",
       "      <td>France</td>\n",
       "      <td>Female</td>\n",
       "      <td>42</td>\n",
       "      <td>2</td>\n",
       "      <td>0.00</td>\n",
       "      <td>1</td>\n",
       "      <td>1</td>\n",
       "      <td>1</td>\n",
       "      <td>101348.88</td>\n",
       "      <td>1</td>\n",
       "    </tr>\n",
       "    <tr>\n",
       "      <th>1</th>\n",
       "      <td>2</td>\n",
       "      <td>15647311</td>\n",
       "      <td>Hill</td>\n",
       "      <td>608</td>\n",
       "      <td>Spain</td>\n",
       "      <td>Female</td>\n",
       "      <td>41</td>\n",
       "      <td>1</td>\n",
       "      <td>83807.86</td>\n",
       "      <td>1</td>\n",
       "      <td>0</td>\n",
       "      <td>1</td>\n",
       "      <td>112542.58</td>\n",
       "      <td>0</td>\n",
       "    </tr>\n",
       "    <tr>\n",
       "      <th>2</th>\n",
       "      <td>3</td>\n",
       "      <td>15619304</td>\n",
       "      <td>Onio</td>\n",
       "      <td>502</td>\n",
       "      <td>France</td>\n",
       "      <td>Female</td>\n",
       "      <td>42</td>\n",
       "      <td>8</td>\n",
       "      <td>159660.80</td>\n",
       "      <td>3</td>\n",
       "      <td>1</td>\n",
       "      <td>0</td>\n",
       "      <td>113931.57</td>\n",
       "      <td>1</td>\n",
       "    </tr>\n",
       "    <tr>\n",
       "      <th>3</th>\n",
       "      <td>4</td>\n",
       "      <td>15701354</td>\n",
       "      <td>Boni</td>\n",
       "      <td>699</td>\n",
       "      <td>France</td>\n",
       "      <td>Female</td>\n",
       "      <td>39</td>\n",
       "      <td>1</td>\n",
       "      <td>0.00</td>\n",
       "      <td>2</td>\n",
       "      <td>0</td>\n",
       "      <td>0</td>\n",
       "      <td>93826.63</td>\n",
       "      <td>0</td>\n",
       "    </tr>\n",
       "    <tr>\n",
       "      <th>4</th>\n",
       "      <td>5</td>\n",
       "      <td>15737888</td>\n",
       "      <td>Mitchell</td>\n",
       "      <td>850</td>\n",
       "      <td>Spain</td>\n",
       "      <td>Female</td>\n",
       "      <td>43</td>\n",
       "      <td>2</td>\n",
       "      <td>125510.82</td>\n",
       "      <td>1</td>\n",
       "      <td>1</td>\n",
       "      <td>1</td>\n",
       "      <td>79084.10</td>\n",
       "      <td>0</td>\n",
       "    </tr>\n",
       "  </tbody>\n",
       "</table>\n",
       "</div>"
      ],
      "text/plain": [
       "   RowNumber  CustomerId   Surname  CreditScore Geography  Gender  Age  \\\n",
       "0          1    15634602  Hargrave          619    France  Female   42   \n",
       "1          2    15647311      Hill          608     Spain  Female   41   \n",
       "2          3    15619304      Onio          502    France  Female   42   \n",
       "3          4    15701354      Boni          699    France  Female   39   \n",
       "4          5    15737888  Mitchell          850     Spain  Female   43   \n",
       "\n",
       "   Tenure    Balance  NumOfProducts  HasCrCard  IsActiveMember  \\\n",
       "0       2       0.00              1          1               1   \n",
       "1       1   83807.86              1          0               1   \n",
       "2       8  159660.80              3          1               0   \n",
       "3       1       0.00              2          0               0   \n",
       "4       2  125510.82              1          1               1   \n",
       "\n",
       "   EstimatedSalary  Exited  \n",
       "0        101348.88       1  \n",
       "1        112542.58       0  \n",
       "2        113931.57       1  \n",
       "3         93826.63       0  \n",
       "4         79084.10       0  "
      ]
     },
     "execution_count": 5,
     "metadata": {},
     "output_type": "execute_result"
    }
   ],
   "source": [
    "df.head()"
   ]
  },
  {
   "cell_type": "code",
   "execution_count": 6,
   "metadata": {},
   "outputs": [],
   "source": [
    "df.drop(columns = ['RowNumber', 'CustomerId', 'Surname'], inplace = True)"
   ]
  },
  {
   "cell_type": "code",
   "execution_count": 7,
   "metadata": {},
   "outputs": [
    {
     "data": {
      "text/plain": [
       "CreditScore        0\n",
       "Geography          0\n",
       "Gender             0\n",
       "Age                0\n",
       "Tenure             0\n",
       "Balance            0\n",
       "NumOfProducts      0\n",
       "HasCrCard          0\n",
       "IsActiveMember     0\n",
       "EstimatedSalary    0\n",
       "Exited             0\n",
       "dtype: int64"
      ]
     },
     "execution_count": 7,
     "metadata": {},
     "output_type": "execute_result"
    }
   ],
   "source": [
    "df.isnull().sum()"
   ]
  },
  {
   "cell_type": "code",
   "execution_count": 8,
   "metadata": {},
   "outputs": [
    {
     "data": {
      "text/html": [
       "<div>\n",
       "<style scoped>\n",
       "    .dataframe tbody tr th:only-of-type {\n",
       "        vertical-align: middle;\n",
       "    }\n",
       "\n",
       "    .dataframe tbody tr th {\n",
       "        vertical-align: top;\n",
       "    }\n",
       "\n",
       "    .dataframe thead th {\n",
       "        text-align: right;\n",
       "    }\n",
       "</style>\n",
       "<table border=\"1\" class=\"dataframe\">\n",
       "  <thead>\n",
       "    <tr style=\"text-align: right;\">\n",
       "      <th></th>\n",
       "      <th>CreditScore</th>\n",
       "      <th>Age</th>\n",
       "      <th>Tenure</th>\n",
       "      <th>Balance</th>\n",
       "      <th>NumOfProducts</th>\n",
       "      <th>HasCrCard</th>\n",
       "      <th>IsActiveMember</th>\n",
       "      <th>EstimatedSalary</th>\n",
       "      <th>Exited</th>\n",
       "    </tr>\n",
       "  </thead>\n",
       "  <tbody>\n",
       "    <tr>\n",
       "      <th>count</th>\n",
       "      <td>10000.000000</td>\n",
       "      <td>10000.000000</td>\n",
       "      <td>10000.000000</td>\n",
       "      <td>10000.000000</td>\n",
       "      <td>10000.000000</td>\n",
       "      <td>10000.00000</td>\n",
       "      <td>10000.000000</td>\n",
       "      <td>10000.000000</td>\n",
       "      <td>10000.000000</td>\n",
       "    </tr>\n",
       "    <tr>\n",
       "      <th>mean</th>\n",
       "      <td>650.528800</td>\n",
       "      <td>38.921800</td>\n",
       "      <td>5.012800</td>\n",
       "      <td>76485.889288</td>\n",
       "      <td>1.530200</td>\n",
       "      <td>0.70550</td>\n",
       "      <td>0.515100</td>\n",
       "      <td>100090.239881</td>\n",
       "      <td>0.203700</td>\n",
       "    </tr>\n",
       "    <tr>\n",
       "      <th>std</th>\n",
       "      <td>96.653299</td>\n",
       "      <td>10.487806</td>\n",
       "      <td>2.892174</td>\n",
       "      <td>62397.405202</td>\n",
       "      <td>0.581654</td>\n",
       "      <td>0.45584</td>\n",
       "      <td>0.499797</td>\n",
       "      <td>57510.492818</td>\n",
       "      <td>0.402769</td>\n",
       "    </tr>\n",
       "    <tr>\n",
       "      <th>min</th>\n",
       "      <td>350.000000</td>\n",
       "      <td>18.000000</td>\n",
       "      <td>0.000000</td>\n",
       "      <td>0.000000</td>\n",
       "      <td>1.000000</td>\n",
       "      <td>0.00000</td>\n",
       "      <td>0.000000</td>\n",
       "      <td>11.580000</td>\n",
       "      <td>0.000000</td>\n",
       "    </tr>\n",
       "    <tr>\n",
       "      <th>25%</th>\n",
       "      <td>584.000000</td>\n",
       "      <td>32.000000</td>\n",
       "      <td>3.000000</td>\n",
       "      <td>0.000000</td>\n",
       "      <td>1.000000</td>\n",
       "      <td>0.00000</td>\n",
       "      <td>0.000000</td>\n",
       "      <td>51002.110000</td>\n",
       "      <td>0.000000</td>\n",
       "    </tr>\n",
       "    <tr>\n",
       "      <th>50%</th>\n",
       "      <td>652.000000</td>\n",
       "      <td>37.000000</td>\n",
       "      <td>5.000000</td>\n",
       "      <td>97198.540000</td>\n",
       "      <td>1.000000</td>\n",
       "      <td>1.00000</td>\n",
       "      <td>1.000000</td>\n",
       "      <td>100193.915000</td>\n",
       "      <td>0.000000</td>\n",
       "    </tr>\n",
       "    <tr>\n",
       "      <th>75%</th>\n",
       "      <td>718.000000</td>\n",
       "      <td>44.000000</td>\n",
       "      <td>7.000000</td>\n",
       "      <td>127644.240000</td>\n",
       "      <td>2.000000</td>\n",
       "      <td>1.00000</td>\n",
       "      <td>1.000000</td>\n",
       "      <td>149388.247500</td>\n",
       "      <td>0.000000</td>\n",
       "    </tr>\n",
       "    <tr>\n",
       "      <th>max</th>\n",
       "      <td>850.000000</td>\n",
       "      <td>92.000000</td>\n",
       "      <td>10.000000</td>\n",
       "      <td>250898.090000</td>\n",
       "      <td>4.000000</td>\n",
       "      <td>1.00000</td>\n",
       "      <td>1.000000</td>\n",
       "      <td>199992.480000</td>\n",
       "      <td>1.000000</td>\n",
       "    </tr>\n",
       "  </tbody>\n",
       "</table>\n",
       "</div>"
      ],
      "text/plain": [
       "        CreditScore           Age        Tenure        Balance  NumOfProducts  \\\n",
       "count  10000.000000  10000.000000  10000.000000   10000.000000   10000.000000   \n",
       "mean     650.528800     38.921800      5.012800   76485.889288       1.530200   \n",
       "std       96.653299     10.487806      2.892174   62397.405202       0.581654   \n",
       "min      350.000000     18.000000      0.000000       0.000000       1.000000   \n",
       "25%      584.000000     32.000000      3.000000       0.000000       1.000000   \n",
       "50%      652.000000     37.000000      5.000000   97198.540000       1.000000   \n",
       "75%      718.000000     44.000000      7.000000  127644.240000       2.000000   \n",
       "max      850.000000     92.000000     10.000000  250898.090000       4.000000   \n",
       "\n",
       "         HasCrCard  IsActiveMember  EstimatedSalary        Exited  \n",
       "count  10000.00000    10000.000000     10000.000000  10000.000000  \n",
       "mean       0.70550        0.515100    100090.239881      0.203700  \n",
       "std        0.45584        0.499797     57510.492818      0.402769  \n",
       "min        0.00000        0.000000        11.580000      0.000000  \n",
       "25%        0.00000        0.000000     51002.110000      0.000000  \n",
       "50%        1.00000        1.000000    100193.915000      0.000000  \n",
       "75%        1.00000        1.000000    149388.247500      0.000000  \n",
       "max        1.00000        1.000000    199992.480000      1.000000  "
      ]
     },
     "execution_count": 8,
     "metadata": {},
     "output_type": "execute_result"
    }
   ],
   "source": [
    "df.describe()"
   ]
  },
  {
   "cell_type": "code",
   "execution_count": 9,
   "metadata": {},
   "outputs": [
    {
     "name": "stdout",
     "output_type": "stream",
     "text": [
      "<class 'pandas.core.frame.DataFrame'>\n",
      "RangeIndex: 10000 entries, 0 to 9999\n",
      "Data columns (total 11 columns):\n",
      " #   Column           Non-Null Count  Dtype  \n",
      "---  ------           --------------  -----  \n",
      " 0   CreditScore      10000 non-null  int64  \n",
      " 1   Geography        10000 non-null  object \n",
      " 2   Gender           10000 non-null  object \n",
      " 3   Age              10000 non-null  int64  \n",
      " 4   Tenure           10000 non-null  int64  \n",
      " 5   Balance          10000 non-null  float64\n",
      " 6   NumOfProducts    10000 non-null  int64  \n",
      " 7   HasCrCard        10000 non-null  int64  \n",
      " 8   IsActiveMember   10000 non-null  int64  \n",
      " 9   EstimatedSalary  10000 non-null  float64\n",
      " 10  Exited           10000 non-null  int64  \n",
      "dtypes: float64(2), int64(7), object(2)\n",
      "memory usage: 859.5+ KB\n"
     ]
    }
   ],
   "source": [
    "df.info()"
   ]
  },
  {
   "cell_type": "code",
   "execution_count": 10,
   "metadata": {},
   "outputs": [
    {
     "data": {
      "text/plain": [
       "Text(0.5, 1.0, 'Comparsion betweeen Countries and Customers')"
      ]
     },
     "execution_count": 10,
     "metadata": {},
     "output_type": "execute_result"
    },
    {
     "data": {
      "image/png": "[encoded data removed]",
      "text/plain": [
       "<Figure size 864x648 with 1 Axes>"
      ]
     },
     "metadata": {
      "needs_background": "light"
     },
     "output_type": "display_data"
    }
   ],
   "source": [
    "plt.figure(figsize = (12,9))\n",
    "df['Geography'].value_counts().plot(kind = 'bar')\n",
    "plt.xlabel('Countries name')\n",
    "plt.ylabel('NUmbers of cusomters')\n",
    "plt.title('Comparsion betweeen Countries and Customers')"
   ]
  },
  {
   "cell_type": "code",
   "execution_count": 11,
   "metadata": {},
   "outputs": [],
   "source": [
    "df = pd.get_dummies(df, columns = ['Geography', 'Gender'], drop_first = True)"
   ]
  },
  {
   "cell_type": "code",
   "execution_count": 12,
   "metadata": {},
   "outputs": [
    {
     "data": {
      "text/html": [
       "<div>\n",
       "<style scoped>\n",
       "    .dataframe tbody tr th:only-of-type {\n",
       "        vertical-align: middle;\n",
       "    }\n",
       "\n",
       "    .dataframe tbody tr th {\n",
       "        vertical-align: top;\n",
       "    }\n",
       "\n",
       "    .dataframe thead th {\n",
       "        text-align: right;\n",
       "    }\n",
       "</style>\n",
       "<table border=\"1\" class=\"dataframe\">\n",
       "  <thead>\n",
       "    <tr style=\"text-align: right;\">\n",
       "      <th></th>\n",
       "      <th>CreditScore</th>\n",
       "      <th>Age</th>\n",
       "      <th>Tenure</th>\n",
       "      <th>Balance</th>\n",
       "      <th>NumOfProducts</th>\n",
       "      <th>HasCrCard</th>\n",
       "      <th>IsActiveMember</th>\n",
       "      <th>EstimatedSalary</th>\n",
       "      <th>Exited</th>\n",
       "      <th>Geography_Germany</th>\n",
       "      <th>Geography_Spain</th>\n",
       "      <th>Gender_Male</th>\n",
       "    </tr>\n",
       "  </thead>\n",
       "  <tbody>\n",
       "    <tr>\n",
       "      <th>0</th>\n",
       "      <td>619</td>\n",
       "      <td>42</td>\n",
       "      <td>2</td>\n",
       "      <td>0.00</td>\n",
       "      <td>1</td>\n",
       "      <td>1</td>\n",
       "      <td>1</td>\n",
       "      <td>101348.88</td>\n",
       "      <td>1</td>\n",
       "      <td>0</td>\n",
       "      <td>0</td>\n",
       "      <td>0</td>\n",
       "    </tr>\n",
       "    <tr>\n",
       "      <th>1</th>\n",
       "      <td>608</td>\n",
       "      <td>41</td>\n",
       "      <td>1</td>\n",
       "      <td>83807.86</td>\n",
       "      <td>1</td>\n",
       "      <td>0</td>\n",
       "      <td>1</td>\n",
       "      <td>112542.58</td>\n",
       "      <td>0</td>\n",
       "      <td>0</td>\n",
       "      <td>1</td>\n",
       "      <td>0</td>\n",
       "    </tr>\n",
       "    <tr>\n",
       "      <th>2</th>\n",
       "      <td>502</td>\n",
       "      <td>42</td>\n",
       "      <td>8</td>\n",
       "      <td>159660.80</td>\n",
       "      <td>3</td>\n",
       "      <td>1</td>\n",
       "      <td>0</td>\n",
       "      <td>113931.57</td>\n",
       "      <td>1</td>\n",
       "      <td>0</td>\n",
       "      <td>0</td>\n",
       "      <td>0</td>\n",
       "    </tr>\n",
       "    <tr>\n",
       "      <th>3</th>\n",
       "      <td>699</td>\n",
       "      <td>39</td>\n",
       "      <td>1</td>\n",
       "      <td>0.00</td>\n",
       "      <td>2</td>\n",
       "      <td>0</td>\n",
       "      <td>0</td>\n",
       "      <td>93826.63</td>\n",
       "      <td>0</td>\n",
       "      <td>0</td>\n",
       "      <td>0</td>\n",
       "      <td>0</td>\n",
       "    </tr>\n",
       "    <tr>\n",
       "      <th>4</th>\n",
       "      <td>850</td>\n",
       "      <td>43</td>\n",
       "      <td>2</td>\n",
       "      <td>125510.82</td>\n",
       "      <td>1</td>\n",
       "      <td>1</td>\n",
       "      <td>1</td>\n",
       "      <td>79084.10</td>\n",
       "      <td>0</td>\n",
       "      <td>0</td>\n",
       "      <td>1</td>\n",
       "      <td>0</td>\n",
       "    </tr>\n",
       "  </tbody>\n",
       "</table>\n",
       "</div>"
      ],
      "text/plain": [
       "   CreditScore  Age  Tenure    Balance  NumOfProducts  HasCrCard  \\\n",
       "0          619   42       2       0.00              1          1   \n",
       "1          608   41       1   83807.86              1          0   \n",
       "2          502   42       8  159660.80              3          1   \n",
       "3          699   39       1       0.00              2          0   \n",
       "4          850   43       2  125510.82              1          1   \n",
       "\n",
       "   IsActiveMember  EstimatedSalary  Exited  Geography_Germany  \\\n",
       "0               1        101348.88       1                  0   \n",
       "1               1        112542.58       0                  0   \n",
       "2               0        113931.57       1                  0   \n",
       "3               0         93826.63       0                  0   \n",
       "4               1         79084.10       0                  0   \n",
       "\n",
       "   Geography_Spain  Gender_Male  \n",
       "0                0            0  \n",
       "1                1            0  \n",
       "2                0            0  \n",
       "3                0            0  \n",
       "4                1            0  "
      ]
     },
     "execution_count": 12,
     "metadata": {},
     "output_type": "execute_result"
    }
   ],
   "source": [
    "df.head()"
   ]
  },
  {
   "cell_type": "code",
   "execution_count": 13,
   "metadata": {},
   "outputs": [],
   "source": [
    "X = df.drop(columns = ['Exited'])\n",
    "y = df['Exited']"
   ]
  },
  {
   "cell_type": "code",
   "execution_count": 14,
   "metadata": {},
   "outputs": [],
   "source": [
    "X_train, X_test, y_train, y_test = train_test_split(X, y, test_size = 0.25, random_state = 3)"
   ]
  },
  {
   "cell_type": "code",
   "execution_count": 15,
   "metadata": {},
   "outputs": [],
   "source": [
    "sc = StandardScaler()\n",
    "X_train = sc.fit_transform(X_train)\n",
    "X_test = sc.transform(X_test)"
   ]
  },
  {
   "cell_type": "code",
   "execution_count": 18,
   "metadata": {},
   "outputs": [],
   "source": [
    "classifier = Sequential()"
   ]
  },
  {
   "cell_type": "code",
   "execution_count": 21,
   "metadata": {},
   "outputs": [
    {
     "name": "stdout",
     "output_type": "stream",
     "text": [
      "WARNING:tensorflow:From /home/millionaire/anaconda3/lib/python3.7/site-packages/tensorflow/python/ops/resource_variable_ops.py:435: colocate_with (from tensorflow.python.framework.ops) is deprecated and will be removed in a future version.\n",
      "Instructions for updating:\n",
      "Colocations handled automatically by placer.\n"
     ]
    }
   ],
   "source": [
    "classifier.add(Dense(6, activation='relu', input_dim=11))\n",
    "classifier.add(Dense(6, activation='relu'))\n",
    "classifier.add(Dense(1, activation='sigmoid'))"
   ]
  },
  {
   "cell_type": "code",
   "execution_count": 23,
   "metadata": {},
   "outputs": [
    {
     "name": "stdout",
     "output_type": "stream",
     "text": [
      "_________________________________________________________________\n",
      "Layer (type)                 Output Shape              Param #   \n",
      "=================================================================\n",
      "dense (Dense)                (None, 6)                 72        \n",
      "_________________________________________________________________\n",
      "dense_1 (Dense)              (None, 6)                 42        \n",
      "_________________________________________________________________\n",
      "dense_2 (Dense)              (None, 1)                 7         \n",
      "=================================================================\n",
      "Total params: 121\n",
      "Trainable params: 121\n",
      "Non-trainable params: 0\n",
      "_________________________________________________________________\n"
     ]
    }
   ],
   "source": [
    "classifier.summary()"
   ]
  },
  {
   "cell_type": "code",
   "execution_count": 25,
   "metadata": {},
   "outputs": [],
   "source": [
    "classifier.compile(optimizer='Adam', loss='binary_crossentropy', metrics=['accuracy'])"
   ]
  },
  {
   "cell_type": "code",
   "execution_count": 50,
   "metadata": {},
   "outputs": [
    {
     "name": "stdout",
     "output_type": "stream",
     "text": [
      "Train on 5625 samples, validate on 1875 samples\n",
      "Epoch 1/100\n",
      "5625/5625 [==============================] - 0s 58us/sample - loss: 0.3169 - acc: 0.8686 - val_loss: 0.3489 - val_acc: 0.8619\n",
      "Epoch 2/100\n",
      "5625/5625 [==============================] - 0s 57us/sample - loss: 0.3170 - acc: 0.8679 - val_loss: 0.3492 - val_acc: 0.8608\n",
      "Epoch 3/100\n",
      "5625/5625 [==============================] - 0s 57us/sample - loss: 0.3167 - acc: 0.8708 - val_loss: 0.3490 - val_acc: 0.8619\n",
      "Epoch 4/100\n",
      "5625/5625 [==============================] - 0s 58us/sample - loss: 0.3166 - acc: 0.8670 - val_loss: 0.3508 - val_acc: 0.8587\n",
      "Epoch 5/100\n",
      "5625/5625 [==============================] - 0s 57us/sample - loss: 0.3168 - acc: 0.8692 - val_loss: 0.3481 - val_acc: 0.8619\n",
      "Epoch 6/100\n",
      "5625/5625 [==============================] - 0s 56us/sample - loss: 0.3172 - acc: 0.8681 - val_loss: 0.3493 - val_acc: 0.8613\n",
      "Epoch 7/100\n",
      "5625/5625 [==============================] - 0s 57us/sample - loss: 0.3171 - acc: 0.8681 - val_loss: 0.3486 - val_acc: 0.8635\n",
      "Epoch 8/100\n",
      "5625/5625 [==============================] - 0s 56us/sample - loss: 0.3170 - acc: 0.8692 - val_loss: 0.3497 - val_acc: 0.8603\n",
      "Epoch 9/100\n",
      "5625/5625 [==============================] - 0s 58us/sample - loss: 0.3169 - acc: 0.8683 - val_loss: 0.3513 - val_acc: 0.8619\n",
      "Epoch 10/100\n",
      "5625/5625 [==============================] - 0s 58us/sample - loss: 0.3165 - acc: 0.8688 - val_loss: 0.3509 - val_acc: 0.8597\n",
      "Epoch 11/100\n",
      "5625/5625 [==============================] - 0s 57us/sample - loss: 0.3170 - acc: 0.8668 - val_loss: 0.3485 - val_acc: 0.8624\n",
      "Epoch 12/100\n",
      "5625/5625 [==============================] - 0s 57us/sample - loss: 0.3169 - acc: 0.8677 - val_loss: 0.3488 - val_acc: 0.8624\n",
      "Epoch 13/100\n",
      "5625/5625 [==============================] - 0s 58us/sample - loss: 0.3169 - acc: 0.8679 - val_loss: 0.3490 - val_acc: 0.8624\n",
      "Epoch 14/100\n",
      "5625/5625 [==============================] - 0s 58us/sample - loss: 0.3167 - acc: 0.8677 - val_loss: 0.3496 - val_acc: 0.8603\n",
      "Epoch 15/100\n",
      "5625/5625 [==============================] - 0s 58us/sample - loss: 0.3166 - acc: 0.8679 - val_loss: 0.3480 - val_acc: 0.8613\n",
      "Epoch 16/100\n",
      "5625/5625 [==============================] - 0s 57us/sample - loss: 0.3167 - acc: 0.8686 - val_loss: 0.3483 - val_acc: 0.8619\n",
      "Epoch 17/100\n",
      "5625/5625 [==============================] - 0s 60us/sample - loss: 0.3160 - acc: 0.8693 - val_loss: 0.3524 - val_acc: 0.8635\n",
      "Epoch 18/100\n",
      "5625/5625 [==============================] - 0s 58us/sample - loss: 0.3174 - acc: 0.8665 - val_loss: 0.3483 - val_acc: 0.8619\n",
      "Epoch 19/100\n",
      "5625/5625 [==============================] - 0s 59us/sample - loss: 0.3166 - acc: 0.8676 - val_loss: 0.3505 - val_acc: 0.8597\n",
      "Epoch 20/100\n",
      "5625/5625 [==============================] - 0s 58us/sample - loss: 0.3172 - acc: 0.8676 - val_loss: 0.3494 - val_acc: 0.8608\n",
      "Epoch 21/100\n",
      "5625/5625 [==============================] - 0s 57us/sample - loss: 0.3163 - acc: 0.8688 - val_loss: 0.3497 - val_acc: 0.8581\n",
      "Epoch 22/100\n",
      "5625/5625 [==============================] - 0s 58us/sample - loss: 0.3163 - acc: 0.8681 - val_loss: 0.3475 - val_acc: 0.8613\n",
      "Epoch 23/100\n",
      "5625/5625 [==============================] - 0s 56us/sample - loss: 0.3170 - acc: 0.8688 - val_loss: 0.3479 - val_acc: 0.8619\n",
      "Epoch 24/100\n",
      "5625/5625 [==============================] - 0s 57us/sample - loss: 0.3166 - acc: 0.8686 - val_loss: 0.3500 - val_acc: 0.8629\n",
      "Epoch 25/100\n",
      "5625/5625 [==============================] - 0s 57us/sample - loss: 0.3167 - acc: 0.8667 - val_loss: 0.3482 - val_acc: 0.8624\n",
      "Epoch 26/100\n",
      "5625/5625 [==============================] - 0s 57us/sample - loss: 0.3164 - acc: 0.8692 - val_loss: 0.3494 - val_acc: 0.8613\n",
      "Epoch 27/100\n",
      "5625/5625 [==============================] - 0s 57us/sample - loss: 0.3173 - acc: 0.8656 - val_loss: 0.3496 - val_acc: 0.8619\n",
      "Epoch 28/100\n",
      "5625/5625 [==============================] - 0s 58us/sample - loss: 0.3160 - acc: 0.8677 - val_loss: 0.3480 - val_acc: 0.8640\n",
      "Epoch 29/100\n",
      "5625/5625 [==============================] - 0s 58us/sample - loss: 0.3168 - acc: 0.8684 - val_loss: 0.3483 - val_acc: 0.8619\n",
      "Epoch 30/100\n",
      "5625/5625 [==============================] - 0s 57us/sample - loss: 0.3168 - acc: 0.8684 - val_loss: 0.3504 - val_acc: 0.8592\n",
      "Epoch 31/100\n",
      "5625/5625 [==============================] - 0s 57us/sample - loss: 0.3169 - acc: 0.8692 - val_loss: 0.3491 - val_acc: 0.8629\n",
      "Epoch 32/100\n",
      "5625/5625 [==============================] - 0s 58us/sample - loss: 0.3164 - acc: 0.8683 - val_loss: 0.3477 - val_acc: 0.8629\n",
      "Epoch 33/100\n",
      "5625/5625 [==============================] - 0s 58us/sample - loss: 0.3164 - acc: 0.8706 - val_loss: 0.3513 - val_acc: 0.8581\n",
      "Epoch 34/100\n",
      "5625/5625 [==============================] - 0s 58us/sample - loss: 0.3168 - acc: 0.8679 - val_loss: 0.3485 - val_acc: 0.8619\n",
      "Epoch 35/100\n",
      "5625/5625 [==============================] - 0s 58us/sample - loss: 0.3166 - acc: 0.8677 - val_loss: 0.3485 - val_acc: 0.8603\n",
      "Epoch 36/100\n",
      "5625/5625 [==============================] - 0s 59us/sample - loss: 0.3165 - acc: 0.8690 - val_loss: 0.3516 - val_acc: 0.8587\n",
      "Epoch 37/100\n",
      "5625/5625 [==============================] - 0s 58us/sample - loss: 0.3165 - acc: 0.8667 - val_loss: 0.3538 - val_acc: 0.8603\n",
      "Epoch 38/100\n",
      "5625/5625 [==============================] - 0s 58us/sample - loss: 0.3171 - acc: 0.8686 - val_loss: 0.3497 - val_acc: 0.8608\n",
      "Epoch 39/100\n",
      "5625/5625 [==============================] - 0s 57us/sample - loss: 0.3166 - acc: 0.8667 - val_loss: 0.3490 - val_acc: 0.8613\n",
      "Epoch 40/100\n",
      "5625/5625 [==============================] - 0s 57us/sample - loss: 0.3168 - acc: 0.8681 - val_loss: 0.3492 - val_acc: 0.8592\n",
      "Epoch 41/100\n",
      "5625/5625 [==============================] - 0s 57us/sample - loss: 0.3164 - acc: 0.8692 - val_loss: 0.3499 - val_acc: 0.8608\n",
      "Epoch 42/100\n",
      "5625/5625 [==============================] - 0s 57us/sample - loss: 0.3167 - acc: 0.8677 - val_loss: 0.3489 - val_acc: 0.8597\n",
      "Epoch 43/100\n",
      "5625/5625 [==============================] - 0s 58us/sample - loss: 0.3167 - acc: 0.8672 - val_loss: 0.3499 - val_acc: 0.8656\n",
      "Epoch 44/100\n",
      "5625/5625 [==============================] - 0s 60us/sample - loss: 0.3168 - acc: 0.8667 - val_loss: 0.3490 - val_acc: 0.8597\n",
      "Epoch 45/100\n",
      "5625/5625 [==============================] - 0s 57us/sample - loss: 0.3169 - acc: 0.8667 - val_loss: 0.3502 - val_acc: 0.8587\n",
      "Epoch 46/100\n",
      "5625/5625 [==============================] - 0s 57us/sample - loss: 0.3166 - acc: 0.8686 - val_loss: 0.3488 - val_acc: 0.8603\n",
      "Epoch 47/100\n",
      "5625/5625 [==============================] - 0s 57us/sample - loss: 0.3167 - acc: 0.8672 - val_loss: 0.3492 - val_acc: 0.8613\n",
      "Epoch 48/100\n",
      "5625/5625 [==============================] - 0s 57us/sample - loss: 0.3164 - acc: 0.8681 - val_loss: 0.3501 - val_acc: 0.8603\n",
      "Epoch 49/100\n",
      "5625/5625 [==============================] - 0s 60us/sample - loss: 0.3167 - acc: 0.8676 - val_loss: 0.3489 - val_acc: 0.8597\n",
      "Epoch 50/100\n",
      "5625/5625 [==============================] - 0s 58us/sample - loss: 0.3171 - acc: 0.8683 - val_loss: 0.3486 - val_acc: 0.8608\n",
      "Epoch 51/100\n",
      "5625/5625 [==============================] - 0s 58us/sample - loss: 0.3165 - acc: 0.8684 - val_loss: 0.3481 - val_acc: 0.8613\n",
      "Epoch 52/100\n",
      "5625/5625 [==============================] - 0s 57us/sample - loss: 0.3163 - acc: 0.8697 - val_loss: 0.3492 - val_acc: 0.8608\n",
      "Epoch 53/100\n",
      "5625/5625 [==============================] - 0s 60us/sample - loss: 0.3163 - acc: 0.8713 - val_loss: 0.3474 - val_acc: 0.8608\n",
      "Epoch 54/100\n",
      "5625/5625 [==============================] - 0s 58us/sample - loss: 0.3158 - acc: 0.8684 - val_loss: 0.3490 - val_acc: 0.8624\n",
      "Epoch 55/100\n",
      "5625/5625 [==============================] - 0s 61us/sample - loss: 0.3169 - acc: 0.8676 - val_loss: 0.3481 - val_acc: 0.8603\n",
      "Epoch 56/100\n",
      "5625/5625 [==============================] - 0s 57us/sample - loss: 0.3161 - acc: 0.8656 - val_loss: 0.3489 - val_acc: 0.8603\n",
      "Epoch 57/100\n",
      "5625/5625 [==============================] - 0s 57us/sample - loss: 0.3164 - acc: 0.8690 - val_loss: 0.3497 - val_acc: 0.8576\n",
      "Epoch 58/100\n",
      "5625/5625 [==============================] - 0s 57us/sample - loss: 0.3163 - acc: 0.8684 - val_loss: 0.3538 - val_acc: 0.8592\n",
      "Epoch 59/100\n"
     ]
    },
    {
     "name": "stdout",
     "output_type": "stream",
     "text": [
      "5625/5625 [==============================] - 0s 57us/sample - loss: 0.3172 - acc: 0.8690 - val_loss: 0.3484 - val_acc: 0.8613\n",
      "Epoch 60/100\n",
      "5625/5625 [==============================] - 0s 57us/sample - loss: 0.3164 - acc: 0.8693 - val_loss: 0.3491 - val_acc: 0.8597\n",
      "Epoch 61/100\n",
      "5625/5625 [==============================] - 0s 57us/sample - loss: 0.3164 - acc: 0.8695 - val_loss: 0.3484 - val_acc: 0.8624\n",
      "Epoch 62/100\n",
      "5625/5625 [==============================] - 0s 60us/sample - loss: 0.3164 - acc: 0.8697 - val_loss: 0.3520 - val_acc: 0.8619\n",
      "Epoch 63/100\n",
      "5625/5625 [==============================] - 0s 61us/sample - loss: 0.3172 - acc: 0.8683 - val_loss: 0.3481 - val_acc: 0.8613\n",
      "Epoch 64/100\n",
      "5625/5625 [==============================] - 0s 58us/sample - loss: 0.3164 - acc: 0.8679 - val_loss: 0.3509 - val_acc: 0.8592\n",
      "Epoch 65/100\n",
      "5625/5625 [==============================] - 0s 57us/sample - loss: 0.3169 - acc: 0.8700 - val_loss: 0.3487 - val_acc: 0.8576\n",
      "Epoch 66/100\n",
      "5625/5625 [==============================] - 0s 57us/sample - loss: 0.3165 - acc: 0.8690 - val_loss: 0.3493 - val_acc: 0.8624\n",
      "Epoch 67/100\n",
      "5625/5625 [==============================] - 0s 57us/sample - loss: 0.3164 - acc: 0.8693 - val_loss: 0.3487 - val_acc: 0.8640\n",
      "Epoch 68/100\n",
      "5625/5625 [==============================] - 0s 57us/sample - loss: 0.3166 - acc: 0.8684 - val_loss: 0.3490 - val_acc: 0.8603\n",
      "Epoch 69/100\n",
      "5625/5625 [==============================] - 0s 59us/sample - loss: 0.3164 - acc: 0.8681 - val_loss: 0.3486 - val_acc: 0.8608\n",
      "Epoch 70/100\n",
      "5625/5625 [==============================] - 0s 58us/sample - loss: 0.3165 - acc: 0.8668 - val_loss: 0.3477 - val_acc: 0.8619\n",
      "Epoch 71/100\n",
      "5625/5625 [==============================] - 0s 57us/sample - loss: 0.3162 - acc: 0.8668 - val_loss: 0.3512 - val_acc: 0.8565\n",
      "Epoch 72/100\n",
      "5625/5625 [==============================] - 0s 57us/sample - loss: 0.3166 - acc: 0.8679 - val_loss: 0.3484 - val_acc: 0.8587\n",
      "Epoch 73/100\n",
      "5625/5625 [==============================] - 0s 58us/sample - loss: 0.3153 - acc: 0.8715 - val_loss: 0.3510 - val_acc: 0.8592\n",
      "Epoch 74/100\n",
      "5625/5625 [==============================] - 0s 57us/sample - loss: 0.3163 - acc: 0.8674 - val_loss: 0.3492 - val_acc: 0.8651\n",
      "Epoch 75/100\n",
      "5625/5625 [==============================] - 0s 57us/sample - loss: 0.3161 - acc: 0.8688 - val_loss: 0.3483 - val_acc: 0.8640\n",
      "Epoch 76/100\n",
      "5625/5625 [==============================] - 0s 57us/sample - loss: 0.3168 - acc: 0.8686 - val_loss: 0.3523 - val_acc: 0.8613\n",
      "Epoch 77/100\n",
      "5625/5625 [==============================] - 0s 57us/sample - loss: 0.3162 - acc: 0.8688 - val_loss: 0.3498 - val_acc: 0.8597\n",
      "Epoch 78/100\n",
      "5625/5625 [==============================] - 0s 61us/sample - loss: 0.3166 - acc: 0.8690 - val_loss: 0.3482 - val_acc: 0.8640\n",
      "Epoch 79/100\n",
      "5625/5625 [==============================] - 0s 57us/sample - loss: 0.3158 - acc: 0.8702 - val_loss: 0.3485 - val_acc: 0.8565\n",
      "Epoch 80/100\n",
      "5625/5625 [==============================] - 0s 57us/sample - loss: 0.3162 - acc: 0.8699 - val_loss: 0.3504 - val_acc: 0.8603\n",
      "Epoch 81/100\n",
      "5625/5625 [==============================] - 0s 57us/sample - loss: 0.3157 - acc: 0.8672 - val_loss: 0.3490 - val_acc: 0.8608\n",
      "Epoch 82/100\n",
      "5625/5625 [==============================] - 0s 60us/sample - loss: 0.3158 - acc: 0.8676 - val_loss: 0.3495 - val_acc: 0.8629\n",
      "Epoch 83/100\n",
      "5625/5625 [==============================] - 0s 57us/sample - loss: 0.3163 - acc: 0.8665 - val_loss: 0.3504 - val_acc: 0.8565\n",
      "Epoch 84/100\n",
      "5625/5625 [==============================] - 0s 57us/sample - loss: 0.3161 - acc: 0.8684 - val_loss: 0.3477 - val_acc: 0.8651\n",
      "Epoch 85/100\n",
      "5625/5625 [==============================] - 0s 58us/sample - loss: 0.3156 - acc: 0.8699 - val_loss: 0.3496 - val_acc: 0.8624\n",
      "Epoch 86/100\n",
      "5625/5625 [==============================] - 0s 57us/sample - loss: 0.3168 - acc: 0.8676 - val_loss: 0.3478 - val_acc: 0.8656\n",
      "Epoch 87/100\n",
      "5625/5625 [==============================] - 0s 57us/sample - loss: 0.3158 - acc: 0.8688 - val_loss: 0.3478 - val_acc: 0.8635\n",
      "Epoch 88/100\n",
      "5625/5625 [==============================] - 0s 56us/sample - loss: 0.3167 - acc: 0.8692 - val_loss: 0.3498 - val_acc: 0.8640\n",
      "Epoch 89/100\n",
      "5625/5625 [==============================] - 0s 58us/sample - loss: 0.3160 - acc: 0.8683 - val_loss: 0.3493 - val_acc: 0.8597\n",
      "Epoch 90/100\n",
      "5625/5625 [==============================] - 0s 59us/sample - loss: 0.3160 - acc: 0.8692 - val_loss: 0.3506 - val_acc: 0.8592\n",
      "Epoch 91/100\n",
      "5625/5625 [==============================] - 0s 59us/sample - loss: 0.3158 - acc: 0.8679 - val_loss: 0.3514 - val_acc: 0.8581\n",
      "Epoch 92/100\n",
      "5625/5625 [==============================] - 0s 60us/sample - loss: 0.3163 - acc: 0.8674 - val_loss: 0.3496 - val_acc: 0.8571\n",
      "Epoch 93/100\n",
      "5625/5625 [==============================] - 0s 60us/sample - loss: 0.3163 - acc: 0.8697 - val_loss: 0.3490 - val_acc: 0.8613\n",
      "Epoch 94/100\n",
      "5625/5625 [==============================] - 0s 59us/sample - loss: 0.3161 - acc: 0.8692 - val_loss: 0.3497 - val_acc: 0.8624\n",
      "Epoch 95/100\n",
      "5625/5625 [==============================] - 0s 57us/sample - loss: 0.3156 - acc: 0.8683 - val_loss: 0.3491 - val_acc: 0.8624\n",
      "Epoch 96/100\n",
      "5625/5625 [==============================] - 0s 57us/sample - loss: 0.3160 - acc: 0.8690 - val_loss: 0.3504 - val_acc: 0.8640\n",
      "Epoch 97/100\n",
      "5625/5625 [==============================] - 0s 59us/sample - loss: 0.3157 - acc: 0.8683 - val_loss: 0.3518 - val_acc: 0.8624\n",
      "Epoch 98/100\n",
      "5625/5625 [==============================] - 0s 58us/sample - loss: 0.3165 - acc: 0.8683 - val_loss: 0.3495 - val_acc: 0.8571\n",
      "Epoch 99/100\n",
      "5625/5625 [==============================] - 0s 60us/sample - loss: 0.3159 - acc: 0.8693 - val_loss: 0.3487 - val_acc: 0.8629\n",
      "Epoch 100/100\n",
      "5625/5625 [==============================] - 0s 57us/sample - loss: 0.3158 - acc: 0.8699 - val_loss: 0.3487 - val_acc: 0.8608\n"
     ]
    }
   ],
   "source": [
    "fit_data = classifier.fit(X_train, y_train, batch_size=10, epochs=100, verbose=1, validation_split=0.25)"
   ]
  },
  {
   "cell_type": "code",
   "execution_count": 51,
   "metadata": {},
   "outputs": [
    {
     "data": {
      "text/plain": [
       "array([[False],\n",
       "       [False],\n",
       "       [ True],\n",
       "       ...,\n",
       "       [False],\n",
       "       [False],\n",
       "       [False]])"
      ]
     },
     "execution_count": 51,
     "metadata": {},
     "output_type": "execute_result"
    }
   ],
   "source": [
    "y_pred = classifier.predict(X_test)\n",
    "y_pred = (y_pred > 0.5)\n",
    "y_pred"
   ]
  },
  {
   "cell_type": "code",
   "execution_count": 52,
   "metadata": {},
   "outputs": [
    {
     "data": {
      "text/plain": [
       "array([[1889,   93],\n",
       "       [ 264,  254]])"
      ]
     },
     "execution_count": 52,
     "metadata": {},
     "output_type": "execute_result"
    }
   ],
   "source": [
    "cm = confusion_matrix(y_test, y_pred)\n",
    "cm"
   ]
  },
  {
   "cell_type": "code",
   "execution_count": 53,
   "metadata": {},
   "outputs": [
    {
     "data": {
      "text/plain": [
       "0.8572"
      ]
     },
     "execution_count": 53,
     "metadata": {},
     "output_type": "execute_result"
    }
   ],
   "source": [
    "accuracy_score(y_test, y_pred)"
   ]
  },
  {
   "cell_type": "code",
   "execution_count": 54,
   "metadata": {},
   "outputs": [
    {
     "data": {
      "text/plain": [
       "[<matplotlib.lines.Line2D at 0x7fdb3c5a94d0>]"
      ]
     },
     "execution_count": 54,
     "metadata": {},
     "output_type": "execute_result"
    },
    {
     "data": {
      "image/png": "[encoded data removed]",
      "text/plain": [
       "<Figure size 432x288 with 1 Axes>"
      ]
     },
     "metadata": {
      "needs_background": "light"
     },
     "output_type": "display_data"
    }
   ],
   "source": [
    "plt.plot(fit_data.history['loss'])\n",
    "plt.plot(fit_data.history['val_loss'])"
   ]
  }
 ],
 "metadata": {
  "kernelspec": {
   "display_name": "Python 3",
   "language": "python",
   "name": "python3"
  },
  "language_info": {
   "codemirror_mode": {
    "name": "ipython",
    "version": 3
   },
   "file_extension": ".py",
   "mimetype": "text/x-python",
   "name": "python",
   "nbconvert_exporter": "python",
   "pygments_lexer": "ipython3",
   "version": "3.7.6"
  }
 },
 "nbformat": 4,
 "nbformat_minor": 4
}
